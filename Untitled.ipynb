{
 "cells": [
  {
   "cell_type": "code",
   "execution_count": 2,
   "id": "ef9248b9-1168-4daa-8bc5-26581f1a0a4f",
   "metadata": {},
   "outputs": [],
   "source": [
    "t = [1,2,3]"
   ]
  },
  {
   "cell_type": "code",
   "execution_count": 3,
   "id": "09afec5b-a623-4228-b368-bba9ee579807",
   "metadata": {},
   "outputs": [
    {
     "data": {
      "text/plain": [
       "3"
      ]
     },
     "execution_count": 3,
     "metadata": {},
     "output_type": "execute_result"
    }
   ],
   "source": [
    "t[-1]"
   ]
  },
  {
   "cell_type": "code",
   "execution_count": 4,
   "id": "845c1773-ef27-49f2-8e74-a4329feb2b2b",
   "metadata": {},
   "outputs": [],
   "source": [
    "d = {'a':1,'b':2}"
   ]
  },
  {
   "cell_type": "code",
   "execution_count": 6,
   "id": "59647de1-cb9a-48d9-a568-d9aa021153d8",
   "metadata": {},
   "outputs": [
    {
     "data": {
      "text/plain": [
       "2"
      ]
     },
     "execution_count": 6,
     "metadata": {},
     "output_type": "execute_result"
    }
   ],
   "source": [
    "d ['b']"
   ]
  },
  {
   "cell_type": "code",
   "execution_count": 7,
   "id": "b5bb8899-0e4d-41bc-b38d-17f4d4ea20fa",
   "metadata": {},
   "outputs": [],
   "source": [
    "def f1(x):\n",
    "    return x**2\n",
    "    "
   ]
  },
  {
   "cell_type": "code",
   "execution_count": 8,
   "id": "a08d0a80-6eb3-451f-acb5-1125b76cd509",
   "metadata": {},
   "outputs": [
    {
     "name": "stdout",
     "output_type": "stream",
     "text": [
      "/home/naim/Bureau\n"
     ]
    }
   ],
   "source": [
    "!pwd\n"
   ]
  },
  {
   "cell_type": "code",
   "execution_count": 9,
   "id": "c3706be1-7f7c-4025-83e9-acd9be4f7670",
   "metadata": {},
   "outputs": [
    {
     "name": "stdout",
     "output_type": "stream",
     "text": [
      "fasteners                 0.14.1\n",
      "fastjsonschema            2.20.0\n"
     ]
    }
   ],
   "source": [
    "!pip list | grep fast"
   ]
  },
  {
   "cell_type": "code",
   "execution_count": 10,
   "id": "1b7ca1bb-0b0b-46b8-a3a1-2ef560a38f0a",
   "metadata": {},
   "outputs": [],
   "source": [
    "# 1 Variables"
   ]
  },
  {
   "cell_type": "code",
   "execution_count": 11,
   "id": "f446d03a-d26b-4b66-a30e-5a00f25cef62",
   "metadata": {},
   "outputs": [],
   "source": [
    "def f1 (x):\n",
    "    return x**2"
   ]
  },
  {
   "cell_type": "code",
   "execution_count": 12,
   "id": "861f702c-9718-468c-9106-90bd50fdfe28",
   "metadata": {},
   "outputs": [
    {
     "name": "stdout",
     "output_type": "stream",
     "text": [
      "400\n"
     ]
    }
   ],
   "source": [
    "resultat = f1(20)\n",
    "print (resultat)"
   ]
  },
  {
   "cell_type": "code",
   "execution_count": 13,
   "id": "f81228e5-9375-4a83-aff7-64adf73fe37c",
   "metadata": {},
   "outputs": [],
   "source": [
    "def f2 (x):\n",
    "    return"
   ]
  },
  {
   "cell_type": "code",
   "execution_count": 14,
   "id": "0a68f966-61be-445f-b96c-a7c6e1debfcc",
   "metadata": {},
   "outputs": [
    {
     "ename": "NameError",
     "evalue": "name 'false' is not defined",
     "output_type": "error",
     "traceback": [
      "\u001b[0;31m---------------------------------------------------------------------------\u001b[0m",
      "\u001b[0;31mNameError\u001b[0m                                 Traceback (most recent call last)",
      "Cell \u001b[0;32mIn[14], line 1\u001b[0m\n\u001b[0;32m----> 1\u001b[0m toto \u001b[38;5;241m=\u001b[39m \u001b[43mfalse\u001b[49m\n",
      "\u001b[0;31mNameError\u001b[0m: name 'false' is not defined"
     ]
    }
   ],
   "source": [
    "toto = false"
   ]
  },
  {
   "cell_type": "code",
   "execution_count": 15,
   "id": "f7a98104-ac33-44a5-918a-2253b961a4de",
   "metadata": {},
   "outputs": [
    {
     "ename": "NameError",
     "evalue": "name 'toto' is not defined",
     "output_type": "error",
     "traceback": [
      "\u001b[0;31m---------------------------------------------------------------------------\u001b[0m",
      "\u001b[0;31mNameError\u001b[0m                                 Traceback (most recent call last)",
      "Cell \u001b[0;32mIn[15], line 1\u001b[0m\n\u001b[0;32m----> 1\u001b[0m \u001b[43mtoto\u001b[49m\n",
      "\u001b[0;31mNameError\u001b[0m: name 'toto' is not defined"
     ]
    }
   ],
   "source": [
    "toto"
   ]
  },
  {
   "cell_type": "code",
   "execution_count": 16,
   "id": "cbb0f7a2-8105-4f94-9c92-53b255f3fac1",
   "metadata": {},
   "outputs": [],
   "source": [
    "titi = \"hello h3\"\n"
   ]
  },
  {
   "cell_type": "code",
   "execution_count": 17,
   "id": "c28b494a-4648-404e-b723-9a2e43702549",
   "metadata": {},
   "outputs": [
    {
     "data": {
      "text/plain": [
       "'hello h3'"
      ]
     },
     "execution_count": 17,
     "metadata": {},
     "output_type": "execute_result"
    }
   ],
   "source": [
    "titi"
   ]
  },
  {
   "cell_type": "code",
   "execution_count": 18,
   "id": "8531512f-2a8a-4014-b30e-4b0c53499c7e",
   "metadata": {},
   "outputs": [],
   "source": [
    "t =[1,2,3]"
   ]
  },
  {
   "cell_type": "code",
   "execution_count": 19,
   "id": "4bac9517-99ea-447c-8f7b-a013b118fa37",
   "metadata": {},
   "outputs": [
    {
     "data": {
      "text/plain": [
       "1"
      ]
     },
     "execution_count": 19,
     "metadata": {},
     "output_type": "execute_result"
    }
   ],
   "source": [
    "t[0]"
   ]
  },
  {
   "cell_type": "code",
   "execution_count": 21,
   "id": "c967c859-43f2-42fa-8a25-008e019bb8b9",
   "metadata": {},
   "outputs": [],
   "source": [
    "d = {'a':1,'b':2}\n"
   ]
  },
  {
   "cell_type": "code",
   "execution_count": 22,
   "id": "47697ea8-1d1b-4c5c-bba7-a5b06bb33181",
   "metadata": {},
   "outputs": [
    {
     "data": {
      "text/plain": [
       "{'a': 1, 'b': 2}"
      ]
     },
     "execution_count": 22,
     "metadata": {},
     "output_type": "execute_result"
    }
   ],
   "source": [
    "d"
   ]
  },
  {
   "cell_type": "code",
   "execution_count": 25,
   "id": "ebb359db-d223-4cab-a605-f82a7e57bd2f",
   "metadata": {},
   "outputs": [
    {
     "data": {
      "text/plain": [
       "2"
      ]
     },
     "execution_count": 25,
     "metadata": {},
     "output_type": "execute_result"
    }
   ],
   "source": [
    "d ['b']"
   ]
  },
  {
   "cell_type": "code",
   "execution_count": 30,
   "id": "c30fdd0d-22d7-4dbc-917b-84f4a3eb76cb",
   "metadata": {},
   "outputs": [],
   "source": [
    "def f1 (x: int) -> int:\n",
    "    res = x**2\n",
    "    #if res %2 == 0\n",
    "       # \"print ( 'c pair wahouuuu')\n",
    "    return res"
   ]
  },
  {
   "cell_type": "code",
   "execution_count": 29,
   "id": "e14ef876-fc09-4db5-a166-4ca8d19919b7",
   "metadata": {},
   "outputs": [
    {
     "data": {
      "text/plain": [
       "25"
      ]
     },
     "execution_count": 29,
     "metadata": {},
     "output_type": "execute_result"
    }
   ],
   "source": [
    "f1 (5)\n"
   ]
  },
  {
   "cell_type": "code",
   "execution_count": 31,
   "id": "58aa1f31-a337-4282-b428-043c089ea4f9",
   "metadata": {},
   "outputs": [],
   "source": [
    "def f2 (x:str) -> str:\n",
    "    return x+'a'"
   ]
  },
  {
   "cell_type": "code",
   "execution_count": 32,
   "id": "41fdfe82-77a8-4fbb-8216-f438a624653c",
   "metadata": {},
   "outputs": [
    {
     "ename": "TypeError",
     "evalue": "unsupported operand type(s) for +: 'int' and 'str'",
     "output_type": "error",
     "traceback": [
      "\u001b[0;31m---------------------------------------------------------------------------\u001b[0m",
      "\u001b[0;31mTypeError\u001b[0m                                 Traceback (most recent call last)",
      "Cell \u001b[0;32mIn[32], line 1\u001b[0m\n\u001b[0;32m----> 1\u001b[0m \u001b[43mf2\u001b[49m\u001b[43m(\u001b[49m\u001b[38;5;241;43m1\u001b[39;49m\u001b[43m)\u001b[49m\n",
      "Cell \u001b[0;32mIn[31], line 2\u001b[0m, in \u001b[0;36mf2\u001b[0;34m(x)\u001b[0m\n\u001b[1;32m      1\u001b[0m \u001b[38;5;28;01mdef\u001b[39;00m \u001b[38;5;21mf2\u001b[39m (x:\u001b[38;5;28mstr\u001b[39m) \u001b[38;5;241m-\u001b[39m\u001b[38;5;241m>\u001b[39m \u001b[38;5;28mstr\u001b[39m:\n\u001b[0;32m----> 2\u001b[0m     \u001b[38;5;28;01mreturn\u001b[39;00m \u001b[43mx\u001b[49m\u001b[38;5;241;43m+\u001b[39;49m\u001b[38;5;124;43m'\u001b[39;49m\u001b[38;5;124;43ma\u001b[39;49m\u001b[38;5;124;43m'\u001b[39;49m\n",
      "\u001b[0;31mTypeError\u001b[0m: unsupported operand type(s) for +: 'int' and 'str'"
     ]
    }
   ],
   "source": [
    "f2(1)"
   ]
  },
  {
   "cell_type": "code",
   "execution_count": 33,
   "id": "83ceafdb-ade8-497d-b3f9-9bb23b42a485",
   "metadata": {},
   "outputs": [
    {
     "name": "stdout",
     "output_type": "stream",
     "text": [
      "0\n",
      "1\n",
      "2\n",
      "3\n",
      "4\n",
      "5\n",
      "6\n",
      "7\n",
      "8\n",
      "9\n"
     ]
    }
   ],
   "source": [
    "for i in range (10):\n",
    "    print(i)"
   ]
  },
  {
   "cell_type": "code",
   "execution_count": 35,
   "id": "a0ba9e83-4073-404d-b264-0ab152e7ce83",
   "metadata": {},
   "outputs": [],
   "source": [
    "for i in range (10):\n",
    "    t.append (i)\n",
    "    "
   ]
  },
  {
   "cell_type": "code",
   "execution_count": 36,
   "id": "aca7da6f-f0cd-43e6-87b8-7c6bca5afd94",
   "metadata": {},
   "outputs": [
    {
     "data": {
      "text/plain": [
       "[1, 2, 3, 0, 1, 2, 3, 4, 5, 6, 7, 8, 9]"
      ]
     },
     "execution_count": 36,
     "metadata": {},
     "output_type": "execute_result"
    }
   ],
   "source": [
    "t"
   ]
  },
  {
   "cell_type": "code",
   "execution_count": 37,
   "id": "53f87fcc-41a2-4f8a-ab8e-d45cd85f2390",
   "metadata": {},
   "outputs": [
    {
     "data": {
      "text/plain": [
       "[0, 1, 2, 3, 4, 5, 6, 7, 8, 9]"
      ]
     },
     "execution_count": 37,
     "metadata": {},
     "output_type": "execute_result"
    }
   ],
   "source": [
    "[ i for i in range (10)]"
   ]
  },
  {
   "cell_type": "code",
   "execution_count": 38,
   "id": "9b055a6c-05ce-449f-983a-2dbbdfe2ea6d",
   "metadata": {},
   "outputs": [
    {
     "name": "stdout",
     "output_type": "stream",
     "text": [
      "/home/naim/Bureau\n"
     ]
    }
   ],
   "source": [
    "!pwd\n"
   ]
  },
  {
   "cell_type": "code",
   "execution_count": 39,
   "id": "f2cb7296-ef6a-471b-93a7-cb6cf20fc5f2",
   "metadata": {},
   "outputs": [
    {
     "name": "stdout",
     "output_type": "stream",
     "text": [
      "fasteners                 0.14.1\n",
      "fastjsonschema            2.20.0\n"
     ]
    }
   ],
   "source": [
    "!pip list | grep fast"
   ]
  },
  {
   "cell_type": "code",
   "execution_count": null,
   "id": "f75cec83-d6f5-4478-8c13-7151f7839416",
   "metadata": {},
   "outputs": [],
   "source": []
  }
 ],
 "metadata": {
  "kernelspec": {
   "display_name": "Python 3 (ipykernel)",
   "language": "python",
   "name": "python3"
  },
  "language_info": {
   "codemirror_mode": {
    "name": "ipython",
    "version": 3
   },
   "file_extension": ".py",
   "mimetype": "text/x-python",
   "name": "python",
   "nbconvert_exporter": "python",
   "pygments_lexer": "ipython3",
   "version": "3.10.12"
  }
 },
 "nbformat": 4,
 "nbformat_minor": 5
}
